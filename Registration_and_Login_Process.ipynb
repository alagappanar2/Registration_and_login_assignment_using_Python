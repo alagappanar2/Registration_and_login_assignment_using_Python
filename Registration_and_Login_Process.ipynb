{
  "nbformat": 4,
  "nbformat_minor": 0,
  "metadata": {
    "colab": {
      "provenance": [],
      "collapsed_sections": [],
      "authorship_tag": "ABX9TyNx2KYFKnr2YLkPWViEX4vn",
      "include_colab_link": true
    },
    "kernelspec": {
      "name": "python3",
      "display_name": "Python 3"
    },
    "language_info": {
      "name": "python"
    }
  },
  "cells": [
    {
      "cell_type": "markdown",
      "metadata": {
        "id": "view-in-github",
        "colab_type": "text"
      },
      "source": [
        "<a href=\"https://colab.research.google.com/github/alagappanar2/assignment_task1/blob/main/Registration_and_Login_Process.ipynb\" target=\"_parent\"><img src=\"https://colab.research.google.com/assets/colab-badge.svg\" alt=\"Open In Colab\"/></a>"
      ]
    },
    {
      "cell_type": "code",
      "execution_count": null,
      "metadata": {
        "id": "UVE13A28Gsl1"
      },
      "outputs": [],
      "source": [
        "f=open(\"database.txt\",\"x\")"
      ]
    },
    {
      "cell_type": "code",
      "source": [
        "email_cond='[A-Za-z0-9_]+@[A-Za-z0-9]+\\.[A-Za-z]{2,}'\n",
        "def check(email):\n",
        "  if re.search('^1',email):\n",
        "    print('invalid mail')\n",
        "  else:\n",
        "    if(re.fullmatch(email_cond,email)):\n",
        "      print('valid mail')\n",
        "    else:\n",
        "      print('invalid mail')\n",
        "email=input('enter email')\n",
        "check(email)"
      ],
      "metadata": {
        "id": "beijMst4yis1"
      },
      "execution_count": null,
      "outputs": []
    },
    {
      "cell_type": "code",
      "source": [
        "def register():\n",
        "  db = open(\"database.txt\", \"r\")\n",
        "  Username = input(\"Create username:\")\n",
        "  Password = input(\"Create password:\")\n",
        "  Password1 = input(\"Confirm password:\")\n",
        "  d = []\n",
        "  f = []\n",
        "  for i in db:\n",
        "    a,b = i.split(\", \")\n",
        "    b = b.strip()\n",
        "    d.append(a)\n",
        "    f.append(b)\n",
        "  data = dict(zip(d, f))\n",
        "\n",
        "  if Password != Password1:\n",
        "    print(\"Password don't match, restart\")\n",
        "    register()\n",
        "  else:\n",
        "    if len(Password)<=6:\n",
        "      print(\"Password too short, restart\")\n",
        "      register()\n",
        "    elif Username in d:\n",
        "      print(\"username exists\")\n",
        "      register()\n",
        "    else:\n",
        "      db = open(\"database.txt\", \"a\")\n",
        "      db.write(Username+\", \"+Password+\"\\n\")\n",
        "      print(\"Success!\")\n",
        "\n",
        "def access():\n",
        "  db = open(\"database.txt\", \"r\")\n",
        "  Username = input(\"Enter your username:\")\n",
        "  Password = input(\"Enter your password:\")\n",
        "\n",
        "  if not len(Username or Password)<1:\n",
        "    d = []\n",
        "    f = []\n",
        "    for i in db:\n",
        "      a,b = i.split(\", \")\n",
        "      b = b.strip()\n",
        "      d.append(a)\n",
        "      f.append(b)\n",
        "  data = dict(zip(d, f))\n",
        "\n",
        "  try:\n",
        "        if data[Username]:\n",
        "          try:\n",
        "            if Password == data[Username]:\n",
        "              print(\"Logged in Successfully\")\n",
        "            else:\n",
        "              print(\"Password or Username incorrect\")\n",
        "          except:\n",
        "            print(\"incorrect password of username\")\n",
        "        else:\n",
        "          print(\"Username or password doesn't exist\")\n",
        "  except:\n",
        "      print(\"Username or password doesn't exist\")\n",
        "  \n",
        "def home(option=None):\n",
        "  option = input(\"Login | Signup:\")\n",
        "  if option == \"Login\":\n",
        "    access()\n",
        "  elif option == \"Signup\":\n",
        "    register()\n",
        "  else:\n",
        "    print(\"Please enter an option\")\n",
        "home()\n"
      ],
      "metadata": {
        "id": "Kppye_VwHiUr"
      },
      "execution_count": null,
      "outputs": []
    }
  ]
}